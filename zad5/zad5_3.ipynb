{
 "cells": [
  {
   "cell_type": "code",
   "execution_count": 4,
   "metadata": {},
   "outputs": [
    {
     "name": "stdout",
     "output_type": "stream",
     "text": [
      "Podaj zdanie: jestem ola\n",
      "W zdaniu znajdują się 2 słowa\n"
     ]
    }
   ],
   "source": [
    "zdanie = input(\"Podaj zdanie: \")\n",
    "\n",
    "l = 0\n",
    "\n",
    "lista = [1]\n",
    "\n",
    "for l in zdanie:\n",
    "    if  l == ' ':\n",
    "         lista.append(1)\n",
    "if len(lista) > 4:\n",
    "    print(\"W zdaniu znajduje się\" , len(lista), \"słów\")\n",
    "if len(lista) == 1:\n",
    "    print(\"W zdaniu znajduje się\", len(lista), \"słowo\" )\n",
    "if len(lista) == 2 or 3 or 4:\n",
    "    print(\"W zdaniu znajdują się\", len(lista), \"słowa\" )"
   ]
  },
  {
   "cell_type": "code",
   "execution_count": null,
   "metadata": {},
   "outputs": [],
   "source": []
  }
 ],
 "metadata": {
  "kernelspec": {
   "display_name": "Python 3",
   "language": "python",
   "name": "python3"
  },
  "language_info": {
   "codemirror_mode": {
    "name": "ipython",
    "version": 3
   },
   "file_extension": ".py",
   "mimetype": "text/x-python",
   "name": "python",
   "nbconvert_exporter": "python",
   "pygments_lexer": "ipython3",
   "version": "3.7.0"
  }
 },
 "nbformat": 4,
 "nbformat_minor": 2
}
