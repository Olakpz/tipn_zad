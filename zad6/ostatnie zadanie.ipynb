{
 "cells": [
  {
   "cell_type": "code",
   "execution_count": 1,
   "metadata": {},
   "outputs": [],
   "source": [
    "\n",
    "a = \"Czy zgadzsz się ze stwierdzeniem, że zaufanie jest podstawą każdej przyjaźni?\"\n",
    "b = \"Czy zgadzasz się ze stwierdzeniem, że nawet kosztem swoich drobnych niewygód, zawsze postarasz się pomóc swojemu przyjacielowi?\"\n",
    "c = \"Czy zgadzasz się ze stwierdzenie, że nie ma dobrej wymówki od spotkania z przyjacielem?\"\n",
    "d = \"Czy zgadzasz się ze stwierdzeniem, że prawdziwy przyjaciel upomni Cię gdy zrobisz coś niewłaściwego?\"\n",
    "e = \"Czy zgadzasz się ze stwierdzeniem, że nad przyjaźnią, należy nieustannie pracować?\"\n",
    "\n",
    "ilość_punktów = []"
   ]
  },
  {
   "cell_type": "code",
   "execution_count": 2,
   "metadata": {},
   "outputs": [],
   "source": [
    "def test(os):\n",
    "\n",
    "    lista_pytan = [a, b, c, d, e]\n",
    "    \n",
    "def zadaj_pytanie(a):\n",
    "        \n",
    "    print(a)\n",
    "    ax = input(\"1 oznacza zupełnie się nie zgadzam, a 5 oznacza całkowicie się zgadzam:\")\n",
    "    ax = int(ax)\n",
    "    if ax>5 or ax<1:\n",
    "        print(\"Wpisałaś/eś złą liczbę! Musisz zacząć od początku!\")\n",
    "    else:\n",
    "        return ax"
   ]
  },
  {
   "cell_type": "code",
   "execution_count": 5,
   "metadata": {},
   "outputs": [
    {
     "name": "stdout",
     "output_type": "stream",
     "text": [
      "Czy zgadzsz się ze stwierdzeniem, że zaufanie jest podstawą każdej przyjaźni?\n",
      "1 oznacza zupełnie się nie zgadzam, a 5 oznacza całkowicie się zgadzam:5\n",
      "Czy zgadzasz się ze stwierdzeniem, że nawet kosztem swoich drobnych niewygód, zawsze postarasz się pomóc swojemu przyjacielowi?\n",
      "1 oznacza zupełnie się nie zgadzam, a 5 oznacza całkowicie się zgadzam:5\n",
      "Czy zgadzasz się ze stwierdzenie, że nie ma dobrej wymówki od spotkania z przyjacielem?\n",
      "1 oznacza zupełnie się nie zgadzam, a 5 oznacza całkowicie się zgadzam:5\n",
      "Czy zgadzasz się ze stwierdzeniem, że prawdziwy przyjaciel upomni Cię gdy zrobisz coś niewłaściwego?\n",
      "1 oznacza zupełnie się nie zgadzam, a 5 oznacza całkowicie się zgadzam:5\n",
      "Czy zgadzasz się ze stwierdzeniem, że nad przyjaźnią, należy nieustannie pracować?\n",
      "1 oznacza zupełnie się nie zgadzam, a 5 oznacza całkowicie się zgadzam:5\n",
      "Twój wynik to 25 . Jesteś wspaniałym towarzyszem, zazdroszczę Twoim przyjaciołom!\n"
     ]
    }
   ],
   "source": [
    "pkt = zadaj_pytanie(a)\n",
    "ilość_punktów.append(pkt)\n",
    "pkt = zadaj_pytanie(b)\n",
    "ilość_punktów.append(pkt)\n",
    "pkt = zadaj_pytanie(c)\n",
    "ilość_punktów.append(pkt)\n",
    "pkt = zadaj_pytanie(d)\n",
    "ilość_punktów.append(pkt)\n",
    "pkt = zadaj_pytanie(e)\n",
    "ilość_punktów.append(pkt)\n",
    "wynik = sum(ilość_punktów)\n",
    "wynik = int(wynik)\n",
    "\n",
    "if wynik > 5 and wynik < 10:\n",
    "    print(\"Twój wynik to\", wynik, \".\", \"Tragedia! Lepiej przywyknij do samotności. Niewątpliwie dla innych brak kontaktu z Tobą to niekiedy najlepsze wyjście\")\n",
    "elif wynik == 5:\n",
    "    print(\"Twój wynik to\", wynik, \".\", \"Współczuję, pewnie nikt z własnej woli nie przebywa z Tobą zbyt długo. Możesz spóbować coś zmienić, ale będzie to wymagało bardzo ciężkiej pracy.\")\n",
    "elif wynik >= 10 and wynik < 15:\n",
    "    print(\"Twój wynik to\", wynik, \".\", \"Nie jest dobrze, wynik poniżej średniej oznacza, że potrzebna Ci duża zmiana. Lepiej zacznij już teraz, jeśli nie chcesz zostać zupełnie sam!\")\n",
    "elif wynik >= 15 and wynik < 20:\n",
    "    print(\"Twój wynik to\", wynik, \".\", \"Uzyskałeś umiarkowany wynik, nie jest źle, ale mogło być zdecydowanie lepiej. Trochę pracy nad sobą i grono Twoich przyjaciół na pewno się powiększy!\")\n",
    "elif wynik >=20 and wynik < 25:\n",
    "    print(\"Twój wynik to\", wynik, \".\", \"Brawo! Jesteś dobrym przyjacielem, trzymaj tak dalej\")\n",
    "elif wynik == 25:\n",
    "    print(\"Twój wynik to\", wynik, \".\", \"Jesteś wspaniałym towarzyszem, zazdroszczę Twoim przyjaciołom!\")\n",
    "    \n",
    "if wynik > 0:\n",
    "    ilość_punktów.pop(0)\n",
    "    ilość_punktów.pop(0)\n",
    "    ilość_punktów.pop(0)\n",
    "    ilość_punktów.pop(0)\n",
    "    ilość_punktów.pop(0)\n",
    "else:\n",
    "    print(\"Mam nadzieję, że świetnie się bawiłeś/aś, dzięki!!\")"
   ]
  },
  {
   "cell_type": "code",
   "execution_count": null,
   "metadata": {},
   "outputs": [],
   "source": []
  }
 ],
 "metadata": {
  "kernelspec": {
   "display_name": "Python 3",
   "language": "python",
   "name": "python3"
  },
  "language_info": {
   "codemirror_mode": {
    "name": "ipython",
    "version": 3
   },
   "file_extension": ".py",
   "mimetype": "text/x-python",
   "name": "python",
   "nbconvert_exporter": "python",
   "pygments_lexer": "ipython3",
   "version": "3.7.0"
  }
 },
 "nbformat": 4,
 "nbformat_minor": 2
}
