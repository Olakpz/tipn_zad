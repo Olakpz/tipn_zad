{
 "cells": [
  {
   "cell_type": "code",
   "execution_count": 4,
   "metadata": {},
   "outputs": [],
   "source": [
    "przedmioty = [ \"metodologia\", \"filozofia\", \"logika\", \"neuroanatomia\", \"wf\"]\n"
   ]
  },
  {
   "cell_type": "code",
   "execution_count": 5,
   "metadata": {},
   "outputs": [
    {
     "name": "stdout",
     "output_type": "stream",
     "text": [
      "Podaj ocenę 3\n",
      "Podaj drugą ocenę 2\n",
      "Podaj trzecią ocenę 3\n",
      "Podaj czwartą ocenę 4\n",
      "Podaj piątą ocenę 5\n",
      "[3.0, 2.0, 3.0, 4.0, 5.0]\n"
     ]
    }
   ],
   "source": [
    "lista_oceny = []\n",
    "ocena = float(input(\"Podaj ocenę \"))\n",
    "lista_oceny.append(ocena)\n",
    "ocena = float(input(\"Podaj drugą ocenę \"))\n",
    "lista_oceny.append(ocena)\n",
    "ocena = float(input(\"Podaj trzecią ocenę \"))\n",
    "lista_oceny.append(ocena)\n",
    "ocena = float(input(\"Podaj czwartą ocenę \"))\n",
    "lista_oceny.append(ocena)\n",
    "ocena = float(input(\"Podaj piątą ocenę \"))\n",
    "lista_oceny.append(ocena)\n",
    "\n",
    "print(lista_oceny)"
   ]
  },
  {
   "cell_type": "code",
   "execution_count": 6,
   "metadata": {},
   "outputs": [
    {
     "data": {
      "text/plain": [
       "17.0"
      ]
     },
     "execution_count": 6,
     "metadata": {},
     "output_type": "execute_result"
    }
   ],
   "source": [
    "sum(lista_oceny)"
   ]
  },
  {
   "cell_type": "code",
   "execution_count": 7,
   "metadata": {},
   "outputs": [],
   "source": [
    "średnia = sum(lista_oceny) / len(przedmioty)"
   ]
  },
  {
   "cell_type": "code",
   "execution_count": 8,
   "metadata": {},
   "outputs": [
    {
     "data": {
      "text/plain": [
       "3.4"
      ]
     },
     "execution_count": 8,
     "metadata": {},
     "output_type": "execute_result"
    }
   ],
   "source": [
    "średnia"
   ]
  },
  {
   "cell_type": "code",
   "execution_count": null,
   "metadata": {},
   "outputs": [],
   "source": []
  }
 ],
 "metadata": {
  "kernelspec": {
   "display_name": "Python 3",
   "language": "python",
   "name": "python3"
  },
  "language_info": {
   "codemirror_mode": {
    "name": "ipython",
    "version": 3
   },
   "file_extension": ".py",
   "mimetype": "text/x-python",
   "name": "python",
   "nbconvert_exporter": "python",
   "pygments_lexer": "ipython3",
   "version": "3.7.0"
  }
 },
 "nbformat": 4,
 "nbformat_minor": 2
}
